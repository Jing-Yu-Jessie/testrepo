{
    "cells": [
        {
            "cell_type": "code",
            "execution_count": 1,
            "metadata": {},
            "outputs": [
                {
                    "name": "stdout",
                    "output_type": "stream",
                    "text": "   symboling normalized-losses         make fuel-type aspiration num-of-doors  \\\n0          3                 ?  alfa-romero       gas        std          two   \n1          1                 ?  alfa-romero       gas        std          two   \n2          2               164         audi       gas        std         four   \n3          2               164         audi       gas        std         four   \n4          2                 ?         audi       gas        std          two   \n\n    body-style drive-wheels engine-location  wheel-base  length  width  \\\n0  convertible          rwd           front        88.6   168.8   64.1   \n1    hatchback          rwd           front        94.5   171.2   65.5   \n2        sedan          fwd           front        99.8   176.6   66.2   \n3        sedan          4wd           front        99.4   176.6   66.4   \n4        sedan          fwd           front        99.8   177.3   66.3   \n\n   height  curb-weight engine-type num-of-cylinders  engine-size fuel-system  \\\n0    48.8         2548        dohc             four          130        mpfi   \n1    52.4         2823        ohcv              six          152        mpfi   \n2    54.3         2337         ohc             four          109        mpfi   \n3    54.3         2824         ohc             five          136        mpfi   \n4    53.1         2507         ohc             five          136        mpfi   \n\n   bore stroke  compression-ration horsepower peak-rpm  city-mpg  highway-mpg  \\\n0  3.47   2.68                 9.0        111     5000        21           27   \n1  2.68   3.47                 9.0        154     5000        19           26   \n2  3.19   3.40                10.0        102     5500        24           30   \n3  3.19   3.40                 8.0        115     5500        18           22   \n4  3.19   3.40                 8.5        110     5500        19           25   \n\n   price  \n0  16500  \n1  16500  \n2  13950  \n3  17450  \n4  15250  \n"
                }
            ],
            "source": "import pandas as pd\nimport matplotlib.pylab as plt\nimport numpy as np\npd.set_option('display.max_columns', None)\npd.set_option('display.max_rows', None)\nurl = \"https://archive.ics.uci.edu/ml/machine-learning-databases/autos/imports-85.data\"\ndf = pd.read_csv(url)\nheaders = [\"symboling\",\"normalized-losses\",\"make\",\"fuel-type\",\"aspiration\",\"num-of-doors\",\"body-style\",\"drive-wheels\",\"engine-location\",\"wheel-base\",\"length\",\"width\",\"height\",\"curb-weight\",\"engine-type\",\\\n           \"num-of-cylinders\",\"engine-size\",\"fuel-system\",\"bore\",\"stroke\",\"compression-ration\",\"horsepower\",\"peak-rpm\",\"city-mpg\",\"highway-mpg\",\"price\"]\ndf.columns=headers\n\nprint(df.head(n = 5))"
        },
        {
            "cell_type": "code",
            "execution_count": null,
            "metadata": {},
            "outputs": [],
            "source": ""
        }
    ],
    "metadata": {
        "kernelspec": {
            "display_name": "Python 3.7",
            "language": "python",
            "name": "python3"
        },
        "language_info": {
            "codemirror_mode": {
                "name": "ipython",
                "version": 3
            },
            "file_extension": ".py",
            "mimetype": "text/x-python",
            "name": "python",
            "nbconvert_exporter": "python",
            "pygments_lexer": "ipython3",
            "version": "3.7.10"
        }
    },
    "nbformat": 4,
    "nbformat_minor": 1
}